{
  "nbformat": 4,
  "nbformat_minor": 0,
  "metadata": {
    "colab": {
      "name": "chap07_Cm07",
      "provenance": [],
      "collapsed_sections": [],
      "authorship_tag": "ABX9TyPQmm0mBHFJsHCY/jzdevyj",
      "include_colab_link": true
    },
    "kernelspec": {
      "name": "python3",
      "display_name": "Python 3"
    },
    "language_info": {
      "name": "python"
    }
  },
  "cells": [
    {
      "cell_type": "markdown",
      "metadata": {
        "id": "view-in-github",
        "colab_type": "text"
      },
      "source": [
        "<a href=\"https://colab.research.google.com/github/MasatsuguA/EU_M_Math_spring/blob/main/chap07_Cm07.ipynb\" target=\"_parent\"><img src=\"https://colab.research.google.com/assets/colab-badge.svg\" alt=\"Open In Colab\"/></a>"
      ]
    },
    {
      "cell_type": "code",
      "execution_count": null,
      "metadata": {
        "id": "CxjvCuGtiXs9"
      },
      "outputs": [],
      "source": [
        "#chapter07_cm07\n",
        "#loopなどを使うより、断然処理が速い\n",
        "log_ratio_stock_close = np.log(dow_close_data/dow_close_data.shift(1))\n",
        "\n",
        "max_vol_stock = log_ratio_stock_close.std().idxmax()\n",
        "min_vol_stock = log_ratio_stock_close.std().idxmin()\n",
        "\n",
        "#最大と最小の標準偏差のstock\n",
        "print('max volatility:',max_vol_stock)\n",
        "print('min volatility:',min_vol_stock)\n",
        "\n",
        "#グラフ化\n",
        "log_ratio_stock_close[max_vol_stock].plot()\n",
        "log_ratio_stock_close[min_vol_stock].plot()\n",
        "plt.ylabel('log ratio')\n",
        "plt.legend()\n",
        "plt.grid(True)"
      ]
    }
  ]
}