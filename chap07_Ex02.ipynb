{
  "nbformat": 4,
  "nbformat_minor": 0,
  "metadata": {
    "colab": {
      "name": "chap07_Ex02",
      "provenance": [],
      "authorship_tag": "ABX9TyPQBoElEwY69u9nAYiPPkJA",
      "include_colab_link": true
    },
    "kernelspec": {
      "name": "python3",
      "display_name": "Python 3"
    },
    "language_info": {
      "name": "python"
    }
  },
  "cells": [
    {
      "cell_type": "markdown",
      "metadata": {
        "id": "view-in-github",
        "colab_type": "text"
      },
      "source": [
        "<a href=\"https://colab.research.google.com/github/MasatsuguA/EU_M_Math_spring/blob/main/chap07_Ex02.ipynb\" target=\"_parent\"><img src=\"https://colab.research.google.com/assets/colab-badge.svg\" alt=\"Open In Colab\"/></a>"
      ]
    },
    {
      "cell_type": "code",
      "execution_count": null,
      "metadata": {
        "id": "C2xoEX2csMvO"
      },
      "outputs": [],
      "source": [
        "#chapter07_Ex02\n",
        "student_data_math.groupby('higher')['G3'].mean().plot(kind='bar')\n",
        "plt.xlabel('higher')\n",
        "plt.ylabel('G3 grade avg')\n",
        "\n",
        "#推測できること：教育と成績は比例している。"
      ]
    }
  ]
}