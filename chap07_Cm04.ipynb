{
  "nbformat": 4,
  "nbformat_minor": 0,
  "metadata": {
    "colab": {
      "name": "chap07_Cm04",
      "provenance": [],
      "authorship_tag": "ABX9TyPqJ0lpxV6x4SNmvYafqYFA",
      "include_colab_link": true
    },
    "kernelspec": {
      "name": "python3",
      "display_name": "Python 3"
    },
    "language_info": {
      "name": "python"
    }
  },
  "cells": [
    {
      "cell_type": "markdown",
      "metadata": {
        "id": "view-in-github",
        "colab_type": "text"
      },
      "source": [
        "<a href=\"https://colab.research.google.com/github/MasatsuguA/EU_M_Math_spring/blob/main/chap07_Cm04.ipynb\" target=\"_parent\"><img src=\"https://colab.research.google.com/assets/colab-badge.svg\" alt=\"Open In Colab\"/></a>"
      ]
    },
    {
      "cell_type": "code",
      "execution_count": null,
      "metadata": {
        "id": "C2xoEX2csMvO"
      },
      "outputs": [],
      "source": [
        "#chapter07_cm04\n",
        "#相関行列\n",
        "corr_data = dow_close_data.corr()\n",
        "corr_data\n",
        "\n",
        "sns.heatmap(corr_data)"
      ]
    }
  ]
}