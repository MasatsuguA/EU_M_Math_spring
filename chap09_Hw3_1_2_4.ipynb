{
  "nbformat": 4,
  "nbformat_minor": 0,
  "metadata": {
    "colab": {
      "name": "chap09-Hw3-1-2_4",
      "provenance": [],
      "authorship_tag": "ABX9TyOZjob8njEBELvxzUTqnk4M",
      "include_colab_link": true
    },
    "kernelspec": {
      "name": "python3",
      "display_name": "Python 3"
    },
    "language_info": {
      "name": "python"
    }
  },
  "cells": [
    {
      "cell_type": "markdown",
      "metadata": {
        "id": "view-in-github",
        "colab_type": "text"
      },
      "source": [
        "<a href=\"https://colab.research.google.com/github/MasatsuguA/EU_M_Math_spring/blob/main/chap09_Hw3_1_2_4.ipynb\" target=\"_parent\"><img src=\"https://colab.research.google.com/assets/colab-badge.svg\" alt=\"Open In Colab\"/></a>"
      ]
    },
    {
      "cell_type": "code",
      "execution_count": null,
      "metadata": {
        "id": "0C_ryUHjK-Mz"
      },
      "outputs": [],
      "source": [
        "#例題9-3-2_4\n",
        "# パラメータ設定\n",
        "#数字だけではわかりにくいので図示\n",
        "arrowprops=dict(arrowstyle='->',\n",
        "                linewidth=2,\n",
        "                shrinkA=0, shrinkB=0)\n",
        "\n",
        "# 矢印を描くための関数\n",
        "def draw_vector(v0, v1):\n",
        "    plt.gca().annotate('', v1, v0, arrowprops=arrowprops)\n",
        "\n",
        "# 元のデータをプロット\n",
        "plt.scatter(X_std[:, 0], X_std[:, 1], alpha=0.2)\n",
        "\n",
        "# 主成分分析の2軸を矢印で表示する\n",
        "for length, vector in zip(pca.explained_variance_, pca.components_):\n",
        "    v = vector * 3 * np.sqrt(length)\n",
        "    draw_vector(pca.mean_, pca.mean_ + v)\n",
        "\n",
        "plt.axis('equal');"
      ]
    }
  ]
}