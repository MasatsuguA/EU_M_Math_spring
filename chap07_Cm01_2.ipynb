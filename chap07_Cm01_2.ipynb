{
  "nbformat": 4,
  "nbformat_minor": 0,
  "metadata": {
    "colab": {
      "name": "chap07_Cm01-2",
      "provenance": [],
      "authorship_tag": "ABX9TyMb38G7ntToDxj3Al8QJJdx",
      "include_colab_link": true
    },
    "kernelspec": {
      "name": "python3",
      "display_name": "Python 3"
    },
    "language_info": {
      "name": "python"
    }
  },
  "cells": [
    {
      "cell_type": "markdown",
      "metadata": {
        "id": "view-in-github",
        "colab_type": "text"
      },
      "source": [
        "<a href=\"https://colab.research.google.com/github/MasatsuguA/EU_M_Math_spring/blob/main/chap07_Cm01_2.ipynb\" target=\"_parent\"><img src=\"https://colab.research.google.com/assets/colab-badge.svg\" alt=\"Open In Colab\"/></a>"
      ]
    },
    {
      "cell_type": "code",
      "execution_count": null,
      "metadata": {
        "id": "C2xoEX2csMvO"
      },
      "outputs": [],
      "source": [
        "#chapter07_Cm01-02\n",
        "# データのカラム情報によるNanの確認\n",
        "dow_jones_index.info()"
      ]
    }
  ]
}