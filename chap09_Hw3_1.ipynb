{
  "nbformat": 4,
  "nbformat_minor": 0,
  "metadata": {
    "colab": {
      "name": "chap09-Hw3-1",
      "provenance": [],
      "authorship_tag": "ABX9TyOk+J2JsdQZAmrPFHritIOf",
      "include_colab_link": true
    },
    "kernelspec": {
      "name": "python3",
      "display_name": "Python 3"
    },
    "language_info": {
      "name": "python"
    }
  },
  "cells": [
    {
      "cell_type": "markdown",
      "metadata": {
        "id": "view-in-github",
        "colab_type": "text"
      },
      "source": [
        "<a href=\"https://colab.research.google.com/github/MasatsuguA/EU_M_Math_spring/blob/main/chap09_Hw3_1.ipynb\" target=\"_parent\"><img src=\"https://colab.research.google.com/assets/colab-badge.svg\" alt=\"Open In Colab\"/></a>"
      ]
    },
    {
      "cell_type": "code",
      "execution_count": null,
      "metadata": {
        "id": "0C_ryUHjK-Mz"
      },
      "outputs": [],
      "source": [
        "#例題9-3－1\n",
        "#主成分分析試す\n",
        "from sklearn.preprocessing import StandardScaler\n",
        "\n",
        "# RandomStateオブジェクトを作成\n",
        "sample = np.random.RandomState(1)\n",
        "\n",
        "#２つの乱数を生成\n",
        "X = np.dot(sample.rand(2, 2), sample.randn(2, 200)).T\n",
        "\n",
        "# 標準化\n",
        "sc = StandardScaler()\n",
        "X_std = sc.fit_transform(X)\n",
        "\n",
        "# 相関係数の算出とグラフ化\n",
        "print('相関係数{:.3f}:'.format(sp.stats.pearsonr(X_std[:, 0], X_std[:, 1])[0]))\n",
        "plt.scatter(X_std[:, 0], X_std[:, 1])"
      ]
    }
  ]
}