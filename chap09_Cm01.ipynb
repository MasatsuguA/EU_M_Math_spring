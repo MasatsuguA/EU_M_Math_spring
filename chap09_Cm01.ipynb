{
  "nbformat": 4,
  "nbformat_minor": 0,
  "metadata": {
    "colab": {
      "name": "chap09_Cm01",
      "provenance": [],
      "authorship_tag": "ABX9TyM3mkui1bpwI7scwSi/7Slu",
      "include_colab_link": true
    },
    "kernelspec": {
      "name": "python3",
      "display_name": "Python 3"
    },
    "language_info": {
      "name": "python"
    }
  },
  "cells": [
    {
      "cell_type": "markdown",
      "metadata": {
        "id": "view-in-github",
        "colab_type": "text"
      },
      "source": [
        "<a href=\"https://colab.research.google.com/github/MasatsuguA/EU_M_Math_spring/blob/main/chap09_Cm01.ipynb\" target=\"_parent\"><img src=\"https://colab.research.google.com/assets/colab-badge.svg\" alt=\"Open In Colab\"/></a>"
      ]
    },
    {
      "cell_type": "code",
      "execution_count": null,
      "metadata": {
        "id": "C2xoEX2csMvO"
      },
      "outputs": [],
      "source": [
        "# chap09_Cm01\n",
        "#購買履歴の元データ（同じディレクトリにいるとします）\n",
        "trans = pd.read_excel('Online Retail.xlsx', sheet_name='Online Retail')\n",
        "trans.head()"
      ]
    }
  ]
}