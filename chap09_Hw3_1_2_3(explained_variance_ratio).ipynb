{
  "nbformat": 4,
  "nbformat_minor": 0,
  "metadata": {
    "colab": {
      "name": "chap09-Hw3-1-2_3(explained_variance_ratio)",
      "provenance": [],
      "authorship_tag": "ABX9TyNyfVAYNbJNU3nLuwpioI3V",
      "include_colab_link": true
    },
    "kernelspec": {
      "name": "python3",
      "display_name": "Python 3"
    },
    "language_info": {
      "name": "python"
    }
  },
  "cells": [
    {
      "cell_type": "markdown",
      "metadata": {
        "id": "view-in-github",
        "colab_type": "text"
      },
      "source": [
        "<a href=\"https://colab.research.google.com/github/MasatsuguA/EU_M_Math_spring/blob/main/chap09_Hw3_1_2_3(explained_variance_ratio).ipynb\" target=\"_parent\"><img src=\"https://colab.research.google.com/assets/colab-badge.svg\" alt=\"Open In Colab\"/></a>"
      ]
    },
    {
      "cell_type": "code",
      "execution_count": null,
      "metadata": {
        "id": "0C_ryUHjK-Mz"
      },
      "outputs": [],
      "source": [
        "#例題9-3-2_3\n",
        "#explained_variance_ratio_属性\n",
        "print('各主成分の分散割合:{}'.format(pca.explained_variance_ratio_))"
      ]
    }
  ]
}