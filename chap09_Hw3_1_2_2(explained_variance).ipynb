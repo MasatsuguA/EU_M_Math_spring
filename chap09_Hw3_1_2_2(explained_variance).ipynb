{
  "nbformat": 4,
  "nbformat_minor": 0,
  "metadata": {
    "colab": {
      "name": "chap09-Hw3-1-2_2(explained_variance)",
      "provenance": [],
      "authorship_tag": "ABX9TyO8pDPBSfHOHR9LxE1IBtCl",
      "include_colab_link": true
    },
    "kernelspec": {
      "name": "python3",
      "display_name": "Python 3"
    },
    "language_info": {
      "name": "python"
    }
  },
  "cells": [
    {
      "cell_type": "markdown",
      "metadata": {
        "id": "view-in-github",
        "colab_type": "text"
      },
      "source": [
        "<a href=\"https://colab.research.google.com/github/MasatsuguA/EU_M_Math_spring/blob/main/chap09_Hw3_1_2_2(explained_variance).ipynb\" target=\"_parent\"><img src=\"https://colab.research.google.com/assets/colab-badge.svg\" alt=\"Open In Colab\"/></a>"
      ]
    },
    {
      "cell_type": "code",
      "execution_count": null,
      "metadata": {
        "id": "0C_ryUHjK-Mz"
      },
      "outputs": [],
      "source": [
        "#例題9-3-2_2\n",
        "#explained_variance_属性\n",
        "print('各主成分の分散:{}'.format(pca.explained_variance_))"
      ]
    }
  ]
}