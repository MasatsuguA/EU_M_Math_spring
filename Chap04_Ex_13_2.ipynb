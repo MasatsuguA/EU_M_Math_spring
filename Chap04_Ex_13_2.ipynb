{
  "nbformat": 4,
  "nbformat_minor": 0,
  "metadata": {
    "colab": {
      "name": "Chap04_Ex-13-2",
      "provenance": [],
      "collapsed_sections": [],
      "authorship_tag": "ABX9TyN7zz3+5TFowFyZBuNqgQRr",
      "include_colab_link": true
    },
    "kernelspec": {
      "name": "python3",
      "display_name": "Python 3"
    },
    "language_info": {
      "name": "python"
    }
  },
  "cells": [
    {
      "cell_type": "markdown",
      "metadata": {
        "id": "view-in-github",
        "colab_type": "text"
      },
      "source": [
        "<a href=\"https://colab.research.google.com/github/MasatsuguA/EU_M_Math_spring/blob/main/Chap04_Ex_13_2.ipynb\" target=\"_parent\"><img src=\"https://colab.research.google.com/assets/colab-badge.svg\" alt=\"Open In Colab\"/></a>"
      ]
    },
    {
      "cell_type": "code",
      "execution_count": null,
      "metadata": {
        "id": "mRlEM2QWP0gE"
      },
      "outputs": [],
      "source": [
        "#chapter04_Ex13-02\n",
        "#G3について\n",
        "\n",
        "print('G3数学の成績平均：',student_data_merge.G3_math.mean())\n",
        "print('G3ポルトガル語の成績平均：',student_data_merge.G3_por.mean())\n",
        "\n",
        "t, p = stats.ttest_rel(student_data_merge.G3_math, student_data_merge.G3_por)\n",
        "print( 'p値 = ',p )\n",
        "\n",
        "#分ることはどちらとも差がある。\n",
        "#有意差が1％以下"
      ]
    }
  ]
}