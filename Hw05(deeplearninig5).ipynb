{
  "nbformat": 4,
  "nbformat_minor": 0,
  "metadata": {
    "colab": {
      "name": "Hw05(deeplearninig5)",
      "provenance": [],
      "collapsed_sections": [],
      "authorship_tag": "ABX9TyNd9pCn1F2e0Fqm82ZMZT+R",
      "include_colab_link": true
    },
    "kernelspec": {
      "name": "python3",
      "display_name": "Python 3"
    },
    "language_info": {
      "name": "python"
    }
  },
  "cells": [
    {
      "cell_type": "markdown",
      "metadata": {
        "id": "view-in-github",
        "colab_type": "text"
      },
      "source": [
        "<a href=\"https://colab.research.google.com/github/MasatsuguA/EU_M_Math_spring/blob/main/Hw05(deeplearninig5).ipynb\" target=\"_parent\"><img src=\"https://colab.research.google.com/assets/colab-badge.svg\" alt=\"Open In Colab\"/></a>"
      ]
    },
    {
      "cell_type": "code",
      "execution_count": 2,
      "metadata": {
        "colab": {
          "base_uri": "https://localhost:8080/"
        },
        "id": "CxjvCuGtiXs9",
        "outputId": "c2758c7b-867e-4929-f58d-52b44bf0d2ed"
      },
      "outputs": [
        {
          "output_type": "stream",
          "name": "stdout",
          "text": [
            "Accuracy: 0.9777777777777777\n"
          ]
        }
      ],
      "source": [
        "#Hw05(deeplearninig5)\n",
        "#Regression using Keras\n",
        "import tensorflow as tf \n",
        "from tensorflow import keras\n",
        "from sklearn.preprocessing import StandardScaler\n",
        "\n",
        "#データセットをダウンロード\n",
        "house_price = keras.datasets.boston_housing\n",
        "#データをtraining, validation, test に分ける\n",
        "(train_x, train_y), (test_x, test_y) = house_price.load_data()\n",
        "train_x, valid_x, train_y, valid_y = train_test_split(train_x, train_y)\n",
        "#変数をスケーリング 最適化を早くするため\n",
        "scaler = StandardScaler()\n",
        "train_x = scaler.fit_transform(train_x)\n",
        "valid_x = scaler.fit_transform(valid_x)\n",
        "test_x = scaler.fit_transform(test_x)\n",
        "#KerasのSequential model を使う\n",
        "keras_model = keras.models.Sequential()\n",
        "\n",
        "#インプットレイヤーを追加\n",
        "keras_model.add(tf.keras.Input(shape=train_x.shape[1:],))\n",
        "\n",
        "#Hidden layer を追加\n",
        "keras_model.add(tf.keras.layers.Dense(30,activation=\"relu\"))\n",
        "#Output layer を追加\n",
        "keras_model.add(tf.keras.layers.Dense(1))\n",
        "keras_model.summary()\n",
        "\n",
        "#モデルをコンパイル\n",
        "keras_model.compile(loss=\"mean_squared_error\", optimizer=\"sgd\",metrics=[tf.keras.metrics.RootMeanSquaredError(\n",
        "name=\"root_mean_squared_error\", dtype=None)])\n",
        "\n",
        "#モデルをトレーニング\n",
        "#validationのデータセットがあれば、それを渡すことで、validationに関してのlossやRMSEの計算なども簡単にできる。\n",
        "history = keras_model.fit(train_x, train_y, epochs=70, validation_data=(valid_x, valid_y))"
      ]
    }
  ]
}