{
  "nbformat": 4,
  "nbformat_minor": 0,
  "metadata": {
    "colab": {
      "name": "Hw11(deeplearninig11)",
      "provenance": [],
      "collapsed_sections": [],
      "authorship_tag": "ABX9TyMAIIuDkagafLNLT7VQb+uQ",
      "include_colab_link": true
    },
    "kernelspec": {
      "name": "python3",
      "display_name": "Python 3"
    },
    "language_info": {
      "name": "python"
    }
  },
  "cells": [
    {
      "cell_type": "markdown",
      "metadata": {
        "id": "view-in-github",
        "colab_type": "text"
      },
      "source": [
        "<a href=\"https://colab.research.google.com/github/MasatsuguA/EU_M_Math_spring/blob/main/Hw11(deeplearninig11).ipynb\" target=\"_parent\"><img src=\"https://colab.research.google.com/assets/colab-badge.svg\" alt=\"Open In Colab\"/></a>"
      ]
    },
    {
      "cell_type": "code",
      "execution_count": 2,
      "metadata": {
        "colab": {
          "base_uri": "https://localhost:8080/"
        },
        "id": "CxjvCuGtiXs9",
        "outputId": "c2758c7b-867e-4929-f58d-52b44bf0d2ed"
      },
      "outputs": [
        {
          "output_type": "stream",
          "name": "stdout",
          "text": [
            "Accuracy: 0.9777777777777777\n"
          ]
        }
      ],
      "source": [
        "#Hw11(deeplearninig11)\n",
        "#３のアウトプットノードに関連する重みを全部について、２８＊２８の2-Dに変換\n",
        "plt.imshow(np.reshape(keras_clf.get_weights()[0][:,3],(28,28)),cmap=\"seismic\")"
      ]
    }
  ]
}