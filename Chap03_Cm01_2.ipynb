{
  "nbformat": 4,
  "nbformat_minor": 0,
  "metadata": {
    "colab": {
      "name": "Chap03_Cm01-2",
      "provenance": [],
      "collapsed_sections": [],
      "authorship_tag": "ABX9TyNZCXsm4mbQVLX4+xdzltug",
      "include_colab_link": true
    },
    "kernelspec": {
      "name": "python3",
      "display_name": "Python 3"
    },
    "language_info": {
      "name": "python"
    }
  },
  "cells": [
    {
      "cell_type": "markdown",
      "metadata": {
        "id": "view-in-github",
        "colab_type": "text"
      },
      "source": [
        "<a href=\"https://colab.research.google.com/github/MasatsuguA/EU_M_Math_spring/blob/main/Chap03_Cm01_2.ipynb\" target=\"_parent\"><img src=\"https://colab.research.google.com/assets/colab-badge.svg\" alt=\"Open In Colab\"/></a>"
      ]
    },
    {
      "cell_type": "code",
      "execution_count": null,
      "metadata": {
        "id": "mRlEM2QWP0gE"
      },
      "outputs": [],
      "source": [
        "#chapter03_Cm01-2\n",
        "#グラフ化する\n",
        "\n",
        "sns.pairplot(wine)"
      ]
    }
  ]
}