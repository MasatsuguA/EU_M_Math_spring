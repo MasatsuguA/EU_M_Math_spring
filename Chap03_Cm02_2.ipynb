{
  "nbformat": 4,
  "nbformat_minor": 0,
  "metadata": {
    "colab": {
      "name": "Chap03_Cm02-2",
      "provenance": [],
      "collapsed_sections": [],
      "authorship_tag": "ABX9TyOg0xEhqtVvE6yAgi0t6Wsd",
      "include_colab_link": true
    },
    "kernelspec": {
      "name": "python3",
      "display_name": "Python 3"
    },
    "language_info": {
      "name": "python"
    }
  },
  "cells": [
    {
      "cell_type": "markdown",
      "metadata": {
        "id": "view-in-github",
        "colab_type": "text"
      },
      "source": [
        "<a href=\"https://colab.research.google.com/github/MasatsuguA/EU_M_Math_spring/blob/main/Chap03_Cm02_2.ipynb\" target=\"_parent\"><img src=\"https://colab.research.google.com/assets/colab-badge.svg\" alt=\"Open In Colab\"/></a>"
      ]
    },
    {
      "cell_type": "code",
      "execution_count": null,
      "metadata": {
        "id": "mRlEM2QWP0gE"
      },
      "outputs": [],
      "source": [
        "#chapter03_Cm02-02\n",
        "# ジニ係数計算するための関数\n",
        "def heikinsa(data):\n",
        "    subt = []\n",
        "    for i in range(0, len(data)-1):\n",
        "        for j in range(i+1, len(data)):\n",
        "            subt.append(np.abs(data[i] - data[j]))\n",
        "    return float(sum(subt))*2 / (len(data) ** 2)\n",
        "    \n",
        "def gini(heikinsa, data):\n",
        "    return heikinsa / (2 * np.mean(data))\n",
        "\n",
        "print('男性の数学の成績に関するジニ係数:', gini(heikinsa(np.array(sorted_data_G1_M)), np.array(sorted_data_G1_M)))\n",
        "print('女性の数学の成績に関するジニ係数:', gini(heikinsa(np.array(sorted_data_G1_F)), np.array(sorted_data_G1_F)))"
      ]
    }
  ]
}