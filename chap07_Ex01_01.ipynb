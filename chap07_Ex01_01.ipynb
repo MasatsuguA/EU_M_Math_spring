{
  "nbformat": 4,
  "nbformat_minor": 0,
  "metadata": {
    "colab": {
      "name": "chap07_Ex01-01",
      "provenance": [],
      "collapsed_sections": [],
      "authorship_tag": "ABX9TyNI7npQ8iuIdzdEfarMlhy+",
      "include_colab_link": true
    },
    "kernelspec": {
      "name": "python3",
      "display_name": "Python 3"
    },
    "language_info": {
      "name": "python"
    }
  },
  "cells": [
    {
      "cell_type": "markdown",
      "metadata": {
        "id": "view-in-github",
        "colab_type": "text"
      },
      "source": [
        "<a href=\"https://colab.research.google.com/github/MasatsuguA/EU_M_Math_spring/blob/main/chap07_Ex01_01.ipynb\" target=\"_parent\"><img src=\"https://colab.research.google.com/assets/colab-badge.svg\" alt=\"Open In Colab\"/></a>"
      ]
    },
    {
      "cell_type": "code",
      "execution_count": null,
      "metadata": {
        "id": "CxjvCuGtiXs9"
      },
      "outputs": [],
      "source": [
        "#chapter07_Ex01-01\n",
        "\n",
        "# データの取得\n",
        "import requests, zipfile\n",
        "from io import StringIO\n",
        "import io\n",
        "# データがあるurlの指定\n",
        "url = 'http://archive.ics.uci.edu/ml/machine-learning-databases/00356/student.zip'\n",
        "\n",
        "# データをurlから取得する\n",
        "r = requests.get(url, stream=True)\n",
        "\n",
        "# zipfileを読み込み展開する\n",
        "z = zipfile.ZipFile(io.BytesIO(r.content))\n",
        "z.extractall()\n",
        "student_data_math = pd.read_csv('student-mat.csv',sep=';')\n",
        "student_data_math.groupby('reason').size().plot(kind='pie', autopct='%1.1f%%',startangle=90)\n",
        "plt.ylabel('')\n",
        "plt.axis('equal')"
      ]
    }
  ]
}