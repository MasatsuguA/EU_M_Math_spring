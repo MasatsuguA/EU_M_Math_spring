{
  "nbformat": 4,
  "nbformat_minor": 0,
  "metadata": {
    "colab": {
      "name": "Chap04_Ex-13-1",
      "provenance": [],
      "collapsed_sections": [],
      "authorship_tag": "ABX9TyMzQ9lH1TMXRZXDNeFxQd2t",
      "include_colab_link": true
    },
    "kernelspec": {
      "name": "python3",
      "display_name": "Python 3"
    },
    "language_info": {
      "name": "python"
    }
  },
  "cells": [
    {
      "cell_type": "markdown",
      "metadata": {
        "id": "view-in-github",
        "colab_type": "text"
      },
      "source": [
        "<a href=\"https://colab.research.google.com/github/MasatsuguA/EU_M_Math_spring/blob/main/Chap04_Ex_13_1.ipynb\" target=\"_parent\"><img src=\"https://colab.research.google.com/assets/colab-badge.svg\" alt=\"Open In Colab\"/></a>"
      ]
    },
    {
      "cell_type": "code",
      "execution_count": null,
      "metadata": {
        "id": "mRlEM2QWP0gE"
      },
      "outputs": [],
      "source": [
        "#chapter04_Ex13-01\n",
        "#G2について\n",
        "# データを作製、urlの指定\n",
        "url = 'http://archive.ics.uci.edu/ml/machine-learning-databases/00356/student.zip'\n",
        "\n",
        "# データをurlから取得する\n",
        "r = requests.get(url, stream=True)\n",
        "\n",
        "# zipfileを読み込み展開する\n",
        "\n",
        "z = zipfile.ZipFile(io.BytesIO(r.content))\n",
        "z.extractall()\n",
        "\n",
        "\n",
        "student_data_math = pd.read_csv('student-mat.csv')\n",
        "\n",
        "# データの読み込み\n",
        "# 区切りに\";\"がついているので注意\n",
        "student_data_math = pd.read_csv('student-mat.csv', sep=';')\n",
        "student_data_math.head()\n",
        "\n",
        "student_data_math = pd.read_csv('student-mat.csv',sep=';')\n",
        "student_data_por = pd.read_csv('student-por.csv',sep=';')\n",
        "student_data_merge = pd.merge(student_data_math\n",
        "                              ,student_data_por\n",
        "                              ,on=['school','sex','age','address','famsize','Pstatus','Medu'\n",
        "                                      ,'Fedu','Mjob','Fjob','reason','nursery','internet']\n",
        "                              ,how='inner'\n",
        "                              ,suffixes=('_math', '_por'))\n",
        "\n",
        "\n",
        "from scipy import stats\n",
        "\n",
        "print('G2数学の成績平均：',student_data_merge.G2_math.mean())\n",
        "print('G2ポルトガル語の成績平均：',student_data_merge.G2_por.mean())\n",
        "\n",
        "t, p = stats.ttest_rel(student_data_merge.G2_math, student_data_merge.G2_por)\n",
        "print( 'p値 =',p )"
      ]
    }
  ]
}