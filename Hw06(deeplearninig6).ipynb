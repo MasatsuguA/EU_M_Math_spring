{
  "nbformat": 4,
  "nbformat_minor": 0,
  "metadata": {
    "colab": {
      "name": "Hw06(deeplearninig6)",
      "provenance": [],
      "collapsed_sections": [],
      "authorship_tag": "ABX9TyP4uI3j1qXyiS1FHbuNErF6",
      "include_colab_link": true
    },
    "kernelspec": {
      "name": "python3",
      "display_name": "Python 3"
    },
    "language_info": {
      "name": "python"
    }
  },
  "cells": [
    {
      "cell_type": "markdown",
      "metadata": {
        "id": "view-in-github",
        "colab_type": "text"
      },
      "source": [
        "<a href=\"https://colab.research.google.com/github/MasatsuguA/EU_M_Math_spring/blob/main/Hw06(deeplearninig6).ipynb\" target=\"_parent\"><img src=\"https://colab.research.google.com/assets/colab-badge.svg\" alt=\"Open In Colab\"/></a>"
      ]
    },
    {
      "cell_type": "code",
      "execution_count": 2,
      "metadata": {
        "colab": {
          "base_uri": "https://localhost:8080/"
        },
        "id": "CxjvCuGtiXs9",
        "outputId": "c2758c7b-867e-4929-f58d-52b44bf0d2ed"
      },
      "outputs": [
        {
          "output_type": "stream",
          "name": "stdout",
          "text": [
            "Accuracy: 0.9777777777777777\n"
          ]
        }
      ],
      "source": [
        "#Hw06(deeplearninig6)\n",
        "#損失関数とRMSEの値をエポックごとにプロット\n",
        "import pandas as pd \n",
        "import matplotlib.pyplot as plt\n",
        "pd.DataFrame(history.history).plot(figsize=(10,8))\n",
        "plt.grid(True)\n",
        "plt.gca().set_ylim(0,60)\n",
        "plt.xlabel(\"# of Epocs\")\n",
        "plt.show()"
      ]
    }
  ]
}