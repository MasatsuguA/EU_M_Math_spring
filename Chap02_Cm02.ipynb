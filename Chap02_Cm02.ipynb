{
  "nbformat": 4,
  "nbformat_minor": 0,
  "metadata": {
    "colab": {
      "name": "Chap02_Cm02",
      "provenance": [],
      "collapsed_sections": [],
      "authorship_tag": "ABX9TyMUGxNxIqB+sfVvdXGN1oBC",
      "include_colab_link": true
    },
    "kernelspec": {
      "name": "python3",
      "display_name": "Python 3"
    },
    "language_info": {
      "name": "python"
    }
  },
  "cells": [
    {
      "cell_type": "markdown",
      "metadata": {
        "id": "view-in-github",
        "colab_type": "text"
      },
      "source": [
        "<a href=\"https://colab.research.google.com/github/MasatsuguA/EU_M_Math_spring/blob/main/Chap02_Cm02.ipynb\" target=\"_parent\"><img src=\"https://colab.research.google.com/assets/colab-badge.svg\" alt=\"Open In Colab\"/></a>"
      ]
    },
    {
      "cell_type": "code",
      "execution_count": null,
      "metadata": {
        "id": "mRlEM2QWP0gE"
      },
      "outputs": [],
      "source": [
        "#chapter02_Cm02\n",
        "#モンテカルロ法\n",
        "\n",
        "import math\n",
        "N = 10000\n",
        "\n",
        "# 一様乱数の発生\n",
        "x = np.random.uniform(0.0, 1.0, N)\n",
        "y = np.random.uniform(0.0, 1.0, N)\n",
        "\n",
        "#円の中に入ったxとy\n",
        "inside_x = []\n",
        "inside_y = []\n",
        "\n",
        "#円の外に出たxとy\n",
        "outside_x = []\n",
        "outside_y = []\n",
        "\n",
        "\n",
        "count_inside = 0\n",
        "for count in range(0, N):\n",
        "    d = math.hypot(x[count],y[count])\n",
        "    if d < 1:\n",
        "        count_inside += 1\n",
        "        # 円の内部に入った時のxとyの組み合わせ\n",
        "        # appendはリストに要素を追加するメソッド\n",
        "        inside_x.append(x[count])\n",
        "        inside_y.append(y[count])\n",
        "    else:\n",
        "        # 円の外に出た時のxとyの組み合わせ\n",
        "        outside_x.append(x[count])\n",
        "        outside_y.append(y[count])\n",
        "    \n",
        "print(\"円の内部に入った数:\",count_inside)"
      ]
    }
  ]
}