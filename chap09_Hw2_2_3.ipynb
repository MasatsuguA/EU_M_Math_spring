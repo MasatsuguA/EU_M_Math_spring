{
  "nbformat": 4,
  "nbformat_minor": 0,
  "metadata": {
    "colab": {
      "name": "chap09-Hw2-2-3",
      "provenance": [],
      "authorship_tag": "ABX9TyMia6Ws8tcPeT6IoSK7PYDr",
      "include_colab_link": true
    },
    "kernelspec": {
      "name": "python3",
      "display_name": "Python 3"
    },
    "language_info": {
      "name": "python"
    }
  },
  "cells": [
    {
      "cell_type": "markdown",
      "metadata": {
        "id": "view-in-github",
        "colab_type": "text"
      },
      "source": [
        "<a href=\"https://colab.research.google.com/github/MasatsuguA/EU_M_Math_spring/blob/main/chap09_Hw2_2_3.ipynb\" target=\"_parent\"><img src=\"https://colab.research.google.com/assets/colab-badge.svg\" alt=\"Open In Colab\"/></a>"
      ]
    },
    {
      "cell_type": "code",
      "execution_count": null,
      "metadata": {
        "id": "0C_ryUHjK-Mz"
      },
      "outputs": [],
      "source": [
        "#例題9-2-2-3\n",
        "\n",
        "#concatでデータを横に結合(axis=1を指定)\n",
        "merge_data = pd.concat([pd.DataFrame(X[:,0]), pd.DataFrame(X[:,1]), pd.DataFrame(y_pred)], axis=1)\n",
        "\n",
        "# 上記のデータにて、X軸をfeature1、Y軸をfeature2、クラスター番号をclusterと列名指定\n",
        "merge_data.columns = ['feature1','feature2','cluster']\n",
        "\n",
        "# クラスタリング結果のグラフ化\n",
        "ax = None\n",
        "colors = ['blue', 'red', 'green']\n",
        "for i, data in merge_data.groupby('cluster'):\n",
        "    ax = data.plot.scatter(x='feature1', y='feature2', color=colors[i],\n",
        "                                           label=f'cluster{i}', ax=ax)"
      ]
    }
  ]
}