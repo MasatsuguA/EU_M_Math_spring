{
  "nbformat": 4,
  "nbformat_minor": 0,
  "metadata": {
    "colab": {
      "name": "Chap03_Cm02-1",
      "provenance": [],
      "collapsed_sections": [],
      "authorship_tag": "ABX9TyMdSzYX7KQZqu0/MLmaM2+7",
      "include_colab_link": true
    },
    "kernelspec": {
      "name": "python3",
      "display_name": "Python 3"
    },
    "language_info": {
      "name": "python"
    }
  },
  "cells": [
    {
      "cell_type": "markdown",
      "metadata": {
        "id": "view-in-github",
        "colab_type": "text"
      },
      "source": [
        "<a href=\"https://colab.research.google.com/github/MasatsuguA/EU_M_Math_spring/blob/main/Chap03_Cm02_1.ipynb\" target=\"_parent\"><img src=\"https://colab.research.google.com/assets/colab-badge.svg\" alt=\"Open In Colab\"/></a>"
      ]
    },
    {
      "cell_type": "code",
      "execution_count": null,
      "metadata": {
        "id": "mRlEM2QWP0gE"
      },
      "outputs": [],
      "source": [
        "#chapter03_cm02-01\n",
        "#ローレンツ曲線\n",
        "# データがあるurlの指定\n",
        "url = 'http://archive.ics.uci.edu/ml/machine-learning-databases/00356/student.zip'\n",
        "\n",
        "# データをurlから取得する\n",
        "r = requests.get(url, stream=True)\n",
        "\n",
        "# zipfileを読み込み展開する\n",
        "z = zipfile.ZipFile(io.BytesIO(r.content))\n",
        "z.extractall()\n",
        "\n",
        "\n",
        "student_data_math = pd.read_csv('student-mat.csv')\n",
        "\n",
        "# データの読み込み\n",
        "# 区切りに\";\"がついているので注意\n",
        "student_data_math = pd.read_csv('student-mat.csv', sep=';')\n",
        "student_data_math.head()\n",
        "\n",
        "#chapter03_Cm02\n",
        "student_data_math_F = student_data_math[student_data_math.sex=='F']\n",
        "student_data_math_M = student_data_math[student_data_math.sex=='M']\n",
        "\n",
        "# 昇順にする\n",
        "sorted_data_G1_F = student_data_math_F.G1.sort_values()\n",
        "sorted_data_G1_M = student_data_math_M.G1.sort_values()\n",
        "\n",
        "# グラフ作成用のデータ\n",
        "len_F = np.arange(len(sorted_data_G1_F))\n",
        "len_M = np.arange(len(sorted_data_G1_M))\n",
        "\n",
        "# ローレンツ曲線\n",
        "plt.plot(len_F/len_F.max(), len_F/len_F.max(), label='E') # 完全平等\n",
        "plt.plot(len_F/len_F.max(), sorted_data_G1_F.cumsum()/sorted_data_G1_F.sum(), label='F')\n",
        "plt.plot(len_M/len_M.max(), sorted_data_G1_M.cumsum()/sorted_data_G1_M.sum(), label='M')\n",
        "plt.legend()\n",
        "plt.grid(True)"
      ]
    }
  ]
}