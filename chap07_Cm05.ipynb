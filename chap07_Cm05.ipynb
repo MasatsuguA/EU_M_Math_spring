{
  "nbformat": 4,
  "nbformat_minor": 0,
  "metadata": {
    "colab": {
      "name": "chap07_Cm05",
      "provenance": [],
      "authorship_tag": "ABX9TyOgtvm+qxDbtH18NQM6ZOyW",
      "include_colab_link": true
    },
    "kernelspec": {
      "name": "python3",
      "display_name": "Python 3"
    },
    "language_info": {
      "name": "python"
    }
  },
  "cells": [
    {
      "cell_type": "markdown",
      "metadata": {
        "id": "view-in-github",
        "colab_type": "text"
      },
      "source": [
        "<a href=\"https://colab.research.google.com/github/MasatsuguA/EU_M_Math_spring/blob/main/chap07_Cm05.ipynb\" target=\"_parent\"><img src=\"https://colab.research.google.com/assets/colab-badge.svg\" alt=\"Open In Colab\"/></a>"
      ]
    },
    {
      "cell_type": "code",
      "execution_count": null,
      "metadata": {
        "id": "C2xoEX2csMvO"
      },
      "outputs": [],
      "source": [
        "#chapter07_cm05\n",
        "# 相関係数が最大となるペアの抽出\n",
        "# initial value\n",
        "max_corr = 0\n",
        "stock_1 = ''\n",
        "stock_2 = ''\n",
        "\n",
        "for i in range(0,len(corr_data)):\n",
        "    print(\n",
        "        corr_data[i:i+1].unstack().sort_values(ascending=False)[[1]].idxmax()[1],\n",
        "        corr_data[i:i+1].unstack().sort_values(ascending=False)[[1]].idxmax()[0],\n",
        "        corr_data[i:i+1].unstack().sort_values(ascending=False)[[1]][0]\n",
        "    )\n",
        "    if max_corr < corr_data[i:i+1].unstack().sort_values(ascending=False)[[1]][0]:\n",
        "        max_corr = corr_data[i:i+1].unstack().sort_values(ascending=False)[[1]][0]\n",
        "        stock_1 = corr_data[i:i+1].unstack().sort_values(ascending=False)[[1]].idxmax()[1]\n",
        "        stock_2 = corr_data[i:i+1].unstack().sort_values(ascending=False)[[1]].idxmax()[0]\n",
        "\n",
        "# max_coorのペアを出力\n",
        "print('[Max Corr]:',max_corr)\n",
        "print('[stock_1]:',stock_1)\n",
        "print('[stock_2]:',stock_2)\n",
        "\n",
        "\n",
        "#グラフ化をおこなう\n",
        "# ペアトレーディングなどに使われる。\n",
        "dow_close_data_subsets =dow_close_data[[stock_1,stock_2]]\n",
        "dow_close_data_subsets.plot(subplots=True,grid=True)\n",
        "plt.grid(True)"
      ]
    }
  ]
}