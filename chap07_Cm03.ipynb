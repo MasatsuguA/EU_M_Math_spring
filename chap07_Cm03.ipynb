{
  "nbformat": 4,
  "nbformat_minor": 0,
  "metadata": {
    "colab": {
      "name": "chap07_Cm03",
      "provenance": [],
      "authorship_tag": "ABX9TyOhC/NhYkNozziPuk8CIVph",
      "include_colab_link": true
    },
    "kernelspec": {
      "name": "python3",
      "display_name": "Python 3"
    },
    "language_info": {
      "name": "python"
    }
  },
  "cells": [
    {
      "cell_type": "markdown",
      "metadata": {
        "id": "view-in-github",
        "colab_type": "text"
      },
      "source": [
        "<a href=\"https://colab.research.google.com/github/MasatsuguA/EU_M_Math_spring/blob/main/chap07_Cm03.ipynb\" target=\"_parent\"><img src=\"https://colab.research.google.com/assets/colab-badge.svg\" alt=\"Open In Colab\"/></a>"
      ]
    },
    {
      "cell_type": "code",
      "execution_count": null,
      "metadata": {
        "id": "C2xoEX2csMvO"
      },
      "outputs": [],
      "source": [
        "#chap07_cm03\n",
        "#indexをセット\n",
        "dow_jones_index_stock_index = dow_jones_index.set_index(['date','stock'])\n",
        "\n",
        "#データフレームワークの再構成\n",
        "dow_jones_index_stock_index_unstack = dow_jones_index_stock_index.unstack()\n",
        "\n",
        "#closeのみ対象\n",
        "dow_close_data = dow_jones_index_stock_index_unstack['close']\n",
        "\n",
        "#要約統計量\n",
        "dow_close_data.describe()"
      ]
    }
  ]
}