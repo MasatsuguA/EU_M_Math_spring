{
  "nbformat": 4,
  "nbformat_minor": 0,
  "metadata": {
    "colab": {
      "name": "Hw08(deeplearninig8)",
      "provenance": [],
      "collapsed_sections": [],
      "authorship_tag": "ABX9TyO2biECF5rrlwKofd01ERHd",
      "include_colab_link": true
    },
    "kernelspec": {
      "name": "python3",
      "display_name": "Python 3"
    },
    "language_info": {
      "name": "python"
    }
  },
  "cells": [
    {
      "cell_type": "markdown",
      "metadata": {
        "id": "view-in-github",
        "colab_type": "text"
      },
      "source": [
        "<a href=\"https://colab.research.google.com/github/MasatsuguA/EU_M_Math_spring/blob/main/Hw08(deeplearninig8).ipynb\" target=\"_parent\"><img src=\"https://colab.research.google.com/assets/colab-badge.svg\" alt=\"Open In Colab\"/></a>"
      ]
    },
    {
      "cell_type": "code",
      "execution_count": 2,
      "metadata": {
        "colab": {
          "base_uri": "https://localhost:8080/"
        },
        "id": "CxjvCuGtiXs9",
        "outputId": "c2758c7b-867e-4929-f58d-52b44bf0d2ed"
      },
      "outputs": [
        {
          "output_type": "stream",
          "name": "stdout",
          "text": [
            "Accuracy: 0.9777777777777777\n"
          ]
        }
      ],
      "source": [
        "#Hw08(deeplearninig8)\n",
        "import tensorflow as tf \n",
        "from tensorflow import keras\n",
        "from sklearn.preprocessing import StandardScaler\n",
        "\n",
        "#training とvalidationに分ける\n",
        "train_, valid_x, train_y, valid_y = train_test_split(train_x, train_y)\n",
        "\n",
        "#最適化のアルゴリズムを早くするために、変数をスケーリングします。\n",
        "train_x = train_x / 255.0\n",
        "valid_x = valid_x / 255.0\n",
        "test_x = test_x / 255.0\n",
        "\n",
        "keras_clf = keras.models.Sequential()\n",
        "#input layerを作る。もともとのinputのデータが2-Dなので、1Dにします。\n",
        "keras_clf.add(keras.layers.Flatten(input_shape=[28,28]))\n",
        "#output layer を作る.10個のクラスがあるので、10個のニューロンが必要。\n",
        "\n",
        "keras_clf.add(keras.layers.Dense(10,activation = 'softmax'))\n",
        "keras_clf.summary()\n",
        "keras_clf.compile(loss=\"sparse_categorical_crossentropy\", optimizer=\"sgd\",metrics=[\"accuracy\"])\n",
        "history = keras_clf.fit(train_x, train_y, epochs=20, validation_data=(valid_x, valid_y))"
      ]
    }
  ]
}