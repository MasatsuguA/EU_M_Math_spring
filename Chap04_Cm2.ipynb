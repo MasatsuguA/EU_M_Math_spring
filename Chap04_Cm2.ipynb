{
  "nbformat": 4,
  "nbformat_minor": 0,
  "metadata": {
    "colab": {
      "name": "Chap04_Cm2",
      "provenance": [],
      "collapsed_sections": [],
      "authorship_tag": "ABX9TyMuorksDDbeO1aO80UU2L34",
      "include_colab_link": true
    },
    "kernelspec": {
      "name": "python3",
      "display_name": "Python 3"
    },
    "language_info": {
      "name": "python"
    }
  },
  "cells": [
    {
      "cell_type": "markdown",
      "metadata": {
        "id": "view-in-github",
        "colab_type": "text"
      },
      "source": [
        "<a href=\"https://colab.research.google.com/github/MasatsuguA/EU_M_Math_spring/blob/main/Chap04_Cm2.ipynb\" target=\"_parent\"><img src=\"https://colab.research.google.com/assets/colab-badge.svg\" alt=\"Open In Colab\"/></a>"
      ]
    },
    {
      "cell_type": "code",
      "execution_count": null,
      "metadata": {
        "id": "mRlEM2QWP0gE"
      },
      "outputs": [],
      "source": [
        "#chapter04_Cm2\n",
        "#studenttimeについて\n",
        "print('数学の勉強時間平均：',student_data_merge.studytime_math.mean())\n",
        "print('ポルトガル語の勉強時間平均：',student_data_merge.studytime_por.mean())\n",
        "\n",
        "t, p = stats.ttest_rel(student_data_merge.studytime_math, student_data_merge.studytime_por)\n",
        "print( 'p値 = ',p)"
      ]
    }
  ]
}