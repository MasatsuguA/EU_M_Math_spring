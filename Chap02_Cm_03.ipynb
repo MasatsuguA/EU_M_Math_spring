{
  "nbformat": 4,
  "nbformat_minor": 0,
  "metadata": {
    "colab": {
      "name": "Chap02_Cm-03",
      "provenance": [],
      "collapsed_sections": [],
      "authorship_tag": "ABX9TyMWluko8T6DjV3Iut/9y0DB",
      "include_colab_link": true
    },
    "kernelspec": {
      "name": "python3",
      "display_name": "Python 3"
    },
    "language_info": {
      "name": "python"
    }
  },
  "cells": [
    {
      "cell_type": "markdown",
      "metadata": {
        "id": "view-in-github",
        "colab_type": "text"
      },
      "source": [
        "<a href=\"https://colab.research.google.com/github/MasatsuguA/EU_M_Math_spring/blob/main/Chap02_Cm_03.ipynb\" target=\"_parent\"><img src=\"https://colab.research.google.com/assets/colab-badge.svg\" alt=\"Open In Colab\"/></a>"
      ]
    },
    {
      "cell_type": "code",
      "execution_count": null,
      "metadata": {
        "id": "mRlEM2QWP0gE"
      },
      "outputs": [],
      "source": [
        "#chapter02_Cm03\n",
        "#モンテカルロ法\n",
        "\n",
        "# さらに図にする\n",
        "# 図のサイズ\n",
        "plt.figure(figsize=(5,5))\n",
        "\n",
        "# 円を描くためのデータ\n",
        "circle_x = np.arange(0,1,0.001)\n",
        "circle_y = np.sqrt(1- circle_x * circle_x)\n",
        "\n",
        "#円を描く\n",
        "plt.plot(circle_x, circle_y) \n",
        "\n",
        "#円の中外で色づけｇ＝緑、y=黄\n",
        "plt.scatter(inside_x,inside_y,color=\"g\")\n",
        "plt.scatter(outside_x,outside_y,color=\"y\")\n",
        "\n",
        "plt.xlabel(\"x\")\n",
        "plt.ylabel(\"y\")\n",
        "plt.grid(True)"
      ]
    }
  ]
}