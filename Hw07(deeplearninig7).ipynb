{
  "nbformat": 4,
  "nbformat_minor": 0,
  "metadata": {
    "colab": {
      "name": "Hw07(deeplearninig7)",
      "provenance": [],
      "collapsed_sections": [],
      "authorship_tag": "ABX9TyPuDmu6hui/GYF27VQkJyU9",
      "include_colab_link": true
    },
    "kernelspec": {
      "name": "python3",
      "display_name": "Python 3"
    },
    "language_info": {
      "name": "python"
    }
  },
  "cells": [
    {
      "cell_type": "markdown",
      "metadata": {
        "id": "view-in-github",
        "colab_type": "text"
      },
      "source": [
        "<a href=\"https://colab.research.google.com/github/MasatsuguA/EU_M_Math_spring/blob/main/Hw07(deeplearninig7).ipynb\" target=\"_parent\"><img src=\"https://colab.research.google.com/assets/colab-badge.svg\" alt=\"Open In Colab\"/></a>"
      ]
    },
    {
      "cell_type": "code",
      "execution_count": 2,
      "metadata": {
        "colab": {
          "base_uri": "https://localhost:8080/"
        },
        "id": "CxjvCuGtiXs9",
        "outputId": "c2758c7b-867e-4929-f58d-52b44bf0d2ed"
      },
      "outputs": [
        {
          "output_type": "stream",
          "name": "stdout",
          "text": [
            "Accuracy: 0.9777777777777777\n"
          ]
        }
      ],
      "source": [
        "#Hw07(deeplearninig7)\n",
        "#Classificaiton using Keras\n",
        "#データをダウンロードして、トレーニングとテストに分ける\n",
        "(train_x, train_y), (test_x, test_y) = tf.keras.datasets.mnist.load_data(path=\"mnist.npz\")"
      ]
    }
  ]
}