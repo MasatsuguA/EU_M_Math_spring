{
  "nbformat": 4,
  "nbformat_minor": 0,
  "metadata": {
    "colab": {
      "name": "Chap06_Cm1-1",
      "provenance": [],
      "collapsed_sections": [],
      "authorship_tag": "ABX9TyOKZR5zb/pjGBcTl81PZgq3",
      "include_colab_link": true
    },
    "kernelspec": {
      "name": "python3",
      "display_name": "Python 3"
    },
    "language_info": {
      "name": "python"
    }
  },
  "cells": [
    {
      "cell_type": "markdown",
      "metadata": {
        "id": "view-in-github",
        "colab_type": "text"
      },
      "source": [
        "<a href=\"https://colab.research.google.com/github/MasatsuguA/EU_M_Math_spring/blob/main/Chap06_Cm1_1.ipynb\" target=\"_parent\"><img src=\"https://colab.research.google.com/assets/colab-badge.svg\" alt=\"Open In Colab\"/></a>"
      ]
    },
    {
      "cell_type": "code",
      "execution_count": null,
      "metadata": {
        "id": "mRlEM2QWP0gE"
      },
      "outputs": [],
      "source": [
        "#chapter06_cm01-01\n",
        "import requests, zipfile\n",
        "from io import StringIO\n",
        "import io\n",
        "# データがあるurlの指定\n",
        "url = 'http://archive.ics.uci.edu/ml/machine-learning-databases/00356/student.zip'\n",
        "\n",
        "# データをurlから取得する\n",
        "r = requests.get(url, stream=True)\n",
        "\n",
        "# zipfileを読み込み展開する\n",
        "z = zipfile.ZipFile(io.BytesIO(r.content))\n",
        "z.extractall()\n",
        "\n",
        "\n",
        "student_data_math = pd.read_csv('student-mat.csv')\n",
        "\n",
        "# データの読み込み\n",
        "# 区切りに\";\"がついているので注意\n",
        "student_data_math = pd.read_csv('student-mat.csv', sep=';')\n",
        "student_data_math.head()\n",
        "\n",
        "\n",
        "student_data_math = pd.read_csv('student-mat.csv',sep=';')\n",
        "\n",
        "student_data_math.groupby(['age','sex'])['G1'].mean().unstack()"
      ]
    }
  ]
}