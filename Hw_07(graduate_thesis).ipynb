{
  "nbformat": 4,
  "nbformat_minor": 0,
  "metadata": {
    "colab": {
      "name": " Hw-07(graduate thesis)",
      "provenance": [],
      "authorship_tag": "ABX9TyOzHyHPAz3lw4cJ9RyROFiV",
      "include_colab_link": true
    },
    "kernelspec": {
      "name": "python3",
      "display_name": "Python 3"
    },
    "language_info": {
      "name": "python"
    }
  },
  "cells": [
    {
      "cell_type": "markdown",
      "metadata": {
        "id": "view-in-github",
        "colab_type": "text"
      },
      "source": [
        "<a href=\"https://colab.research.google.com/github/MasatsuguA/EU_M_Math_spring/blob/main/Hw_07(graduate_thesis).ipynb\" target=\"_parent\"><img src=\"https://colab.research.google.com/assets/colab-badge.svg\" alt=\"Open In Colab\"/></a>"
      ]
    },
    {
      "cell_type": "code",
      "execution_count": null,
      "metadata": {
        "id": "BalAleUCU0ee"
      },
      "outputs": [],
      "source": [
        "#卒論のグラフ\n",
        "#作製した模型の荷重力とたわみ量の関係\n",
        "\n",
        "import numpy as np\n",
        "import matplotlib.pyplot as plt\n",
        " \n",
        "# 折れ線グラフを出力\n",
        "x1 = np.array([0, 27.5, 55.3, 43.1, 27.5, -0.8, -14.8, -28.8, -43.2, -28.5, -13.1, 2.2])\n",
        "x2 = np.array([0, 33.4, 57, 44.4 , 33.4, 0, -30.7, -65.6, -92.5,-52.3,-20.2, -1.1])\n",
        "y = np.array([0, 12.5, 22.5, 17.5, 12.5, 0, -11.5,-25, -37,-24,-11, 1])\n",
        "\n",
        "\n",
        "#グラフサイズ\n",
        "plt.figure(figsize=(10,6))\n",
        "plt.xlabel('load(N)')\n",
        "plt.ylabel('angle(deg)')\n",
        "plt.plot(x1,y)\n",
        "plt.plot(x2,y)"
      ]
    }
  ]
}