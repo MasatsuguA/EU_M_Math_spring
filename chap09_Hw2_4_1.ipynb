{
  "nbformat": 4,
  "nbformat_minor": 0,
  "metadata": {
    "colab": {
      "name": "chap09-Hw2-4-1",
      "provenance": [],
      "authorship_tag": "ABX9TyNV+/DiOKSk6JmDlQlZBqxY",
      "include_colab_link": true
    },
    "kernelspec": {
      "name": "python3",
      "display_name": "Python 3"
    },
    "language_info": {
      "name": "python"
    }
  },
  "cells": [
    {
      "cell_type": "markdown",
      "metadata": {
        "id": "view-in-github",
        "colab_type": "text"
      },
      "source": [
        "<a href=\"https://colab.research.google.com/github/MasatsuguA/EU_M_Math_spring/blob/main/chap09_Hw2_4_1.ipynb\" target=\"_parent\"><img src=\"https://colab.research.google.com/assets/colab-badge.svg\" alt=\"Open In Colab\"/></a>"
      ]
    },
    {
      "cell_type": "code",
      "execution_count": null,
      "metadata": {
        "id": "0C_ryUHjK-Mz"
      },
      "outputs": [],
      "source": [
        "#例題9-2-4-1\n",
        "# エルボー方による推定。クラスター数を1から10に増やして、それぞれの距離の総和を求める\n",
        "dist_list =[]\n",
        "for i in range(1,10):\n",
        "    kmeans= KMeans(n_clusters=i, init='random', random_state=0)\n",
        "    kmeans.fit(X)\n",
        "    dist_list.append(kmeans.inertia_)\n",
        "    \n",
        "# グラフを表示\n",
        "plt.plot(range(1,10), dist_list,marker='+')\n",
        "plt.xlabel('Number of clusters')\n",
        "plt.ylabel('Distortion')"
      ]
    }
  ]
}