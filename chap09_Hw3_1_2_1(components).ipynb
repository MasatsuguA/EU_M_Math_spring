{
  "nbformat": 4,
  "nbformat_minor": 0,
  "metadata": {
    "colab": {
      "name": "chap09-Hw3-1-2_1(components)",
      "provenance": [],
      "authorship_tag": "ABX9TyN5nu/kaTc+4aS7TB3pSn+P",
      "include_colab_link": true
    },
    "kernelspec": {
      "name": "python3",
      "display_name": "Python 3"
    },
    "language_info": {
      "name": "python"
    }
  },
  "cells": [
    {
      "cell_type": "markdown",
      "metadata": {
        "id": "view-in-github",
        "colab_type": "text"
      },
      "source": [
        "<a href=\"https://colab.research.google.com/github/MasatsuguA/EU_M_Math_spring/blob/main/chap09_Hw3_1_2_1(components).ipynb\" target=\"_parent\"><img src=\"https://colab.research.google.com/assets/colab-badge.svg\" alt=\"Open In Colab\"/></a>"
      ]
    },
    {
      "cell_type": "code",
      "execution_count": null,
      "metadata": {
        "id": "0C_ryUHjK-Mz"
      },
      "outputs": [],
      "source": [
        "#例題9-3-2_1\n",
        "#components_属性\n",
        "print(pca.components_)"
      ]
    }
  ]
}