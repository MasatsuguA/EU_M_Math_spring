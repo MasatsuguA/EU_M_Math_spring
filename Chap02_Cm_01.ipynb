{
  "nbformat": 4,
  "nbformat_minor": 0,
  "metadata": {
    "colab": {
      "name": "Chap02_Cm-01",
      "provenance": [],
      "collapsed_sections": [],
      "authorship_tag": "ABX9TyMpOhyk8HKJaOi5DqIkm8iZ",
      "include_colab_link": true
    },
    "kernelspec": {
      "name": "python3",
      "display_name": "Python 3"
    },
    "language_info": {
      "name": "python"
    }
  },
  "cells": [
    {
      "cell_type": "markdown",
      "metadata": {
        "id": "view-in-github",
        "colab_type": "text"
      },
      "source": [
        "<a href=\"https://colab.research.google.com/github/MasatsuguA/EU_M_Math_spring/blob/main/Chap02_Cm_01.ipynb\" target=\"_parent\"><img src=\"https://colab.research.google.com/assets/colab-badge.svg\" alt=\"Open In Colab\"/></a>"
      ]
    },
    {
      "cell_type": "code",
      "execution_count": null,
      "metadata": {
        "id": "mRlEM2QWP0gE"
      },
      "outputs": [],
      "source": [
        "#chapter02_Cm01\n",
        "#モンテカルロ法\n",
        "\n",
        "import numpy.random as random\n",
        "\n",
        "#0から1まで10000こ取り出す\n",
        "\n",
        "print(np.random.uniform(0.0,1.0,10000))\n",
        "\n",
        "2組なのでもう一回\n",
        "print(np.random.uniform(0.0,1.0,10000))"
      ]
    }
  ]
}