{
  "nbformat": 4,
  "nbformat_minor": 0,
  "metadata": {
    "colab": {
      "name": "Hw04(deeplearninig4)",
      "provenance": [],
      "collapsed_sections": [],
      "authorship_tag": "ABX9TyPyi/AKsBhN6JKpxqdQaz2R",
      "include_colab_link": true
    },
    "kernelspec": {
      "name": "python3",
      "display_name": "Python 3"
    },
    "language_info": {
      "name": "python"
    }
  },
  "cells": [
    {
      "cell_type": "markdown",
      "metadata": {
        "id": "view-in-github",
        "colab_type": "text"
      },
      "source": [
        "<a href=\"https://colab.research.google.com/github/MasatsuguA/EU_M_Math_spring/blob/main/Hw04(deeplearninig4).ipynb\" target=\"_parent\"><img src=\"https://colab.research.google.com/assets/colab-badge.svg\" alt=\"Open In Colab\"/></a>"
      ]
    },
    {
      "cell_type": "code",
      "execution_count": 2,
      "metadata": {
        "colab": {
          "base_uri": "https://localhost:8080/"
        },
        "id": "CxjvCuGtiXs9",
        "outputId": "c2758c7b-867e-4929-f58d-52b44bf0d2ed"
      },
      "outputs": [
        {
          "output_type": "stream",
          "name": "stdout",
          "text": [
            "Accuracy: 0.9777777777777777\n"
          ]
        }
      ],
      "source": [
        "#Hw04(deeplearninig4)\n",
        "#MLP Regression\n",
        "from sklearn.datasets import load_boston\n",
        "from sklearn.neural_network import MLPRegressor\n",
        "from sklearn.model_selection import train_test_split\n",
        "from sklearn.metrics import mean_squared_error\n",
        "\n",
        "#データセットをロード\n",
        "dataset = load_boston()\n",
        "x = dataset['data']\n",
        "y = dataset['target']\n",
        "\n",
        "#テストとトレーニングのデータセットに分ける\n",
        "#モデルの評価をしっかりやりたい時は、validationのデータセットを作るのが良い。\n",
        "train_x, test_x, train_y, test_y = train_test_split(x,y, test_size = 0.3, random_state = 42, shuffle =True)\n",
        "\n",
        "#2個のhidden layerを追加 activation function は relu.\n",
        "mlp_reg = MLPRegressor((10,10),activation ='relu',learning_rate='constant',learning_rate_init=0.001,max_iter=3000,random_state=42)\n",
        "mlp_reg.fit(train_x,train_y)\n",
        "predictions = mlp_reg.predict(test_x)\n",
        "\n",
        "#RSMEを計算\n",
        "error = mean_squared_error(test_y,predictions) ** (1/2)\n",
        "print(\"RSME: \" +str(error))"
      ]
    }
  ]
}