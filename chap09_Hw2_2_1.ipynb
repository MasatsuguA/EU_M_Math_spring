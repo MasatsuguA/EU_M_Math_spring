{
  "nbformat": 4,
  "nbformat_minor": 0,
  "metadata": {
    "colab": {
      "name": "chap09-Hw2-2-1",
      "provenance": [],
      "authorship_tag": "ABX9TyNrXSm403SVITTzXRnOFzMQ",
      "include_colab_link": true
    },
    "kernelspec": {
      "name": "python3",
      "display_name": "Python 3"
    },
    "language_info": {
      "name": "python"
    }
  },
  "cells": [
    {
      "cell_type": "markdown",
      "metadata": {
        "id": "view-in-github",
        "colab_type": "text"
      },
      "source": [
        "<a href=\"https://colab.research.google.com/github/MasatsuguA/EU_M_Math_spring/blob/main/chap09_Hw2_2_1.ipynb\" target=\"_parent\"><img src=\"https://colab.research.google.com/assets/colab-badge.svg\" alt=\"Open In Colab\"/></a>"
      ]
    },
    {
      "cell_type": "code",
      "execution_count": null,
      "metadata": {
        "id": "D7FqG1a0WRk7"
      },
      "outputs": [],
      "source": [
        "# 例題9-2-2-1\n",
        "#k-means法を使うためのインポート\n",
        "from sklearn.cluster import KMeans\n",
        "\n",
        "# データ取得のためのインポート\n",
        "from sklearn.datasets import make_blobs\n",
        "\n",
        "# サンプルデータ生成\n",
        "# 注意：make_blobsは2つの値を返すため、一方は使用しない「 _ 」で受け取る\n",
        "X, _ = make_blobs(random_state=10)\n",
        "\n",
        "# グラフを描画\n",
        "# colorのオプションで色付けができる\n",
        "plt.scatter(X[:,0],X[:,1],color='black')"
      ]
    }
  ]
}